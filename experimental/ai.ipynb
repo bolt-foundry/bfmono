{
 "cells": [
  {
   "cell_type": "code",
   "execution_count": 1,
   "id": "8329fffa-1747-46c8-b7ff-35ee4549f949",
   "metadata": {},
   "outputs": [],
   "source": [
    "import openAi, { runIt } from \"experimental/ai.ts\""
   ]
  },
  {
   "cell_type": "code",
   "execution_count": 2,
   "id": "17e8df04-dbfe-4e25-8198-7ae66a1080e4",
   "metadata": {},
   "outputs": [
    {
     "name": "stdout",
     "output_type": "stream",
     "text": [
      "{\n",
      "  id: \u001b[32m\"gen-1737394988-LmueMeclzy9L3MfiUXb6\"\u001b[39m,\n",
      "  provider: \u001b[32m\"OpenAI\"\u001b[39m,\n",
      "  model: \u001b[32m\"openai/gpt-4o-2024-08-06\"\u001b[39m,\n",
      "  object: \u001b[32m\"chat.completion\"\u001b[39m,\n",
      "  created: \u001b[33m1737394988\u001b[39m,\n",
      "  choices: [\n",
      "    {\n",
      "      logprobs: \u001b[1mnull\u001b[22m,\n",
      "      finish_reason: \u001b[32m\"stop\"\u001b[39m,\n",
      "      native_finish_reason: \u001b[32m\"stop\"\u001b[39m,\n",
      "      index: \u001b[33m0\u001b[39m,\n",
      "      message: {\n",
      "        role: \u001b[32m\"assistant\"\u001b[39m,\n",
      "        content: \u001b[32m'{\"recommendations\":[{\"originalText\":\"Building a product to venture into the unknown is hard.\",\"newTe'\u001b[39m... 2466 more characters,\n",
      "        refusal: \u001b[32m\"\"\u001b[39m\n",
      "      }\n",
      "    }\n",
      "  ],\n",
      "  system_fingerprint: \u001b[32m\"fp_50cad350e4\"\u001b[39m,\n",
      "  usage: { prompt_tokens: \u001b[33m668\u001b[39m, completion_tokens: \u001b[33m491\u001b[39m, total_tokens: \u001b[33m1159\u001b[39m }\n",
      "}\n"
     ]
    },
    {
     "data": {
      "text/plain": [
       "{\n",
       "  recommendations: [\n",
       "    {\n",
       "      originalText: \u001b[32m\"Building a product to venture into the unknown is hard.\"\u001b[39m,\n",
       "      newText: \u001b[32m\"Creating innovative solutions for unexplored frontiers is challenging.\"\u001b[39m,\n",
       "      reasoning: \u001b[32m\"Use more specific language to highlight innovation and exploration, which might appeal more to ventu\"\u001b[39m... 21 more characters,\n",
       "      confidence: \u001b[33m0.9\u001b[39m\n",
       "    },\n",
       "    {\n",
       "      originalText: \u001b[32m\"progress on the ground is measured in much smaller milestones\"\u001b[39m,\n",
       "      newText: \u001b[32m\"ground-level progress relies on achieving incremental milestones\"\u001b[39m,\n",
       "      reasoning: \u001b[32m\"This phrasing better emphasizes the focus on gradual advancement, making the process sound structure\"\u001b[39m... 17 more characters,\n",
       "      confidence: \u001b[33m0.8\u001b[39m\n",
       "    },\n",
       "    {\n",
       "      originalText: \u001b[32m\"Operating with speed in this environment means driving every open item to a conclusion as quickly as\"\u001b[39m... 10 more characters,\n",
       "      newText: \u001b[32m\"Speed is essential; we push each task to completion swiftly.\"\u001b[39m,\n",
       "      reasoning: \u001b[32m\"This rewording maintains clarity and reinforces the emphasis on speed and efficiency, likely valued \"\u001b[39m... 13 more characters,\n",
       "      confidence: \u001b[33m0.95\u001b[39m\n",
       "    },\n",
       "    {\n",
       "      originalText: \u001b[32m\"We build this philosophy into our spacecraft.\"\u001b[39m,\n",
       "      newText: \u001b[32m\"This philosophy is embedded in our spacecraft design.\"\u001b[39m,\n",
       "      reasoning: \u001b[32m\"Improves clarity by specifying the application of philosophy and reinforces the innovative aspect of\"\u001b[39m... 10 more characters,\n",
       "      confidence: \u001b[33m0.92\u001b[39m\n",
       "    },\n",
       "    {\n",
       "      originalText: \u001b[32m\"designed to be assembled and disassembled in hours rather than days\"\u001b[39m,\n",
       "      newText: \u001b[32m\"engineered for rapid assembly and disassembly within hours\"\u001b[39m,\n",
       "      reasoning: \u001b[32m\"The term 'engineered' suggests a more technical and deliberate process, and 'rapid' enhances the per\"\u001b[39m... 22 more characters,\n",
       "      confidence: \u001b[33m0.9\u001b[39m\n",
       "    },\n",
       "    {\n",
       "      originalText: \u001b[32m\"This approach is core to the thesis of Astroforge.\"\u001b[39m,\n",
       "      newText: \u001b[32m\"This methodology is fundamental to Astroforge's strategic approach.\"\u001b[39m,\n",
       "      reasoning: \u001b[32m\"Using 'methodology' and 'strategic approach' lends a more professional and structured tone, appealin\"\u001b[39m... 15 more characters,\n",
       "      confidence: \u001b[33m0.88\u001b[39m\n",
       "    },\n",
       "    {\n",
       "      originalText: \u001b[32m\"This reassembly also included a vibration test for workmanship, staying true to the original thesis \"\u001b[39m... 24 more characters,\n",
       "      newText: \u001b[32m\"We incorporated a vibration test to ensure quality workmanship, adhering to our test-driven construc\"\u001b[39m... 15 more characters,\n",
       "      reasoning: \u001b[32m\"Rephrases for clarity and impact, emphasizing adherence to quality and the overarching principle.\"\u001b[39m,\n",
       "      confidence: \u001b[33m0.9\u001b[39m\n",
       "    },\n",
       "    {\n",
       "      originalText: \u001b[32m\"Time to send it to the Cape—and onward to an asteroid.\"\u001b[39m,\n",
       "      newText: \u001b[32m\"Next, we’re launching Odin from Cape Canaveral towards its asteroid destination.\"\u001b[39m,\n",
       "      reasoning: \u001b[32m\"Provides more specific information ('Cape Canaveral') and adds clarity with concise language.\"\u001b[39m,\n",
       "      confidence: \u001b[33m0.95\u001b[39m\n",
       "    }\n",
       "  ]\n",
       "}"
      ]
     },
     "execution_count": 2,
     "metadata": {},
     "output_type": "execute_result"
    }
   ],
   "source": [
    "await runIt()"
   ]
  }
 ],
 "metadata": {
  "kernelspec": {
   "display_name": "Deno",
   "language": "typescript",
   "name": "deno"
  },
  "language_info": {
   "codemirror_mode": "typescript",
   "file_extension": ".ts",
   "mimetype": "text/x.typescript",
   "name": "typescript",
   "nbconvert_exporter": "script",
   "pygments_lexer": "typescript",
   "version": "5.6.2"
  }
 },
 "nbformat": 4,
 "nbformat_minor": 5
}
